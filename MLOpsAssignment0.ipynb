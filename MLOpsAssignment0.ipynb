{
  "cells": [
    {
      "cell_type": "markdown",
      "metadata": {
        "id": "view-in-github",
        "colab_type": "text"
      },
      "source": [
        "<a href=\"https://colab.research.google.com/github/vedrajiit/GoogleCollab/blob/main/MLOpsAssignment0.ipynb\" target=\"_parent\"><img src=\"https://colab.research.google.com/assets/colab-badge.svg\" alt=\"Open In Colab\"/></a>"
      ]
    },
    {
      "cell_type": "markdown",
      "metadata": {
        "id": "Bgy9Rlzf5HWc"
      },
      "source": [
        "Use multiple (at least two) datasets with different characteristics (e.g., image, text, time series) and analyze how performance varies across these datasets. Note that different datasets may require different pre-processing techniques, feature engineering approaches, or algorithm choices. Provide justification for your choices."
      ]
    },
    {
      "cell_type": "code",
      "execution_count": 3,
      "metadata": {
        "colab": {
          "base_uri": "https://localhost:8080/",
          "height": 108
        },
        "id": "q7tqSrFBpH_A",
        "outputId": "eedf70ed-d749-458a-cebe-8723ce958746"
      },
      "outputs": [
        {
          "output_type": "display_data",
          "data": {
            "text/plain": [
              "<IPython.core.display.HTML object>"
            ],
            "text/html": [
              "\n",
              "     <input type=\"file\" id=\"files-070dac7e-6c74-40e0-921a-0738b5388409\" name=\"files[]\" multiple disabled\n",
              "        style=\"border:none\" />\n",
              "     <output id=\"result-070dac7e-6c74-40e0-921a-0738b5388409\">\n",
              "      Upload widget is only available when the cell has been executed in the\n",
              "      current browser session. Please rerun this cell to enable.\n",
              "      </output>\n",
              "      <script>// Copyright 2017 Google LLC\n",
              "//\n",
              "// Licensed under the Apache License, Version 2.0 (the \"License\");\n",
              "// you may not use this file except in compliance with the License.\n",
              "// You may obtain a copy of the License at\n",
              "//\n",
              "//      http://www.apache.org/licenses/LICENSE-2.0\n",
              "//\n",
              "// Unless required by applicable law or agreed to in writing, software\n",
              "// distributed under the License is distributed on an \"AS IS\" BASIS,\n",
              "// WITHOUT WARRANTIES OR CONDITIONS OF ANY KIND, either express or implied.\n",
              "// See the License for the specific language governing permissions and\n",
              "// limitations under the License.\n",
              "\n",
              "/**\n",
              " * @fileoverview Helpers for google.colab Python module.\n",
              " */\n",
              "(function(scope) {\n",
              "function span(text, styleAttributes = {}) {\n",
              "  const element = document.createElement('span');\n",
              "  element.textContent = text;\n",
              "  for (const key of Object.keys(styleAttributes)) {\n",
              "    element.style[key] = styleAttributes[key];\n",
              "  }\n",
              "  return element;\n",
              "}\n",
              "\n",
              "// Max number of bytes which will be uploaded at a time.\n",
              "const MAX_PAYLOAD_SIZE = 100 * 1024;\n",
              "\n",
              "function _uploadFiles(inputId, outputId) {\n",
              "  const steps = uploadFilesStep(inputId, outputId);\n",
              "  const outputElement = document.getElementById(outputId);\n",
              "  // Cache steps on the outputElement to make it available for the next call\n",
              "  // to uploadFilesContinue from Python.\n",
              "  outputElement.steps = steps;\n",
              "\n",
              "  return _uploadFilesContinue(outputId);\n",
              "}\n",
              "\n",
              "// This is roughly an async generator (not supported in the browser yet),\n",
              "// where there are multiple asynchronous steps and the Python side is going\n",
              "// to poll for completion of each step.\n",
              "// This uses a Promise to block the python side on completion of each step,\n",
              "// then passes the result of the previous step as the input to the next step.\n",
              "function _uploadFilesContinue(outputId) {\n",
              "  const outputElement = document.getElementById(outputId);\n",
              "  const steps = outputElement.steps;\n",
              "\n",
              "  const next = steps.next(outputElement.lastPromiseValue);\n",
              "  return Promise.resolve(next.value.promise).then((value) => {\n",
              "    // Cache the last promise value to make it available to the next\n",
              "    // step of the generator.\n",
              "    outputElement.lastPromiseValue = value;\n",
              "    return next.value.response;\n",
              "  });\n",
              "}\n",
              "\n",
              "/**\n",
              " * Generator function which is called between each async step of the upload\n",
              " * process.\n",
              " * @param {string} inputId Element ID of the input file picker element.\n",
              " * @param {string} outputId Element ID of the output display.\n",
              " * @return {!Iterable<!Object>} Iterable of next steps.\n",
              " */\n",
              "function* uploadFilesStep(inputId, outputId) {\n",
              "  const inputElement = document.getElementById(inputId);\n",
              "  inputElement.disabled = false;\n",
              "\n",
              "  const outputElement = document.getElementById(outputId);\n",
              "  outputElement.innerHTML = '';\n",
              "\n",
              "  const pickedPromise = new Promise((resolve) => {\n",
              "    inputElement.addEventListener('change', (e) => {\n",
              "      resolve(e.target.files);\n",
              "    });\n",
              "  });\n",
              "\n",
              "  const cancel = document.createElement('button');\n",
              "  inputElement.parentElement.appendChild(cancel);\n",
              "  cancel.textContent = 'Cancel upload';\n",
              "  const cancelPromise = new Promise((resolve) => {\n",
              "    cancel.onclick = () => {\n",
              "      resolve(null);\n",
              "    };\n",
              "  });\n",
              "\n",
              "  // Wait for the user to pick the files.\n",
              "  const files = yield {\n",
              "    promise: Promise.race([pickedPromise, cancelPromise]),\n",
              "    response: {\n",
              "      action: 'starting',\n",
              "    }\n",
              "  };\n",
              "\n",
              "  cancel.remove();\n",
              "\n",
              "  // Disable the input element since further picks are not allowed.\n",
              "  inputElement.disabled = true;\n",
              "\n",
              "  if (!files) {\n",
              "    return {\n",
              "      response: {\n",
              "        action: 'complete',\n",
              "      }\n",
              "    };\n",
              "  }\n",
              "\n",
              "  for (const file of files) {\n",
              "    const li = document.createElement('li');\n",
              "    li.append(span(file.name, {fontWeight: 'bold'}));\n",
              "    li.append(span(\n",
              "        `(${file.type || 'n/a'}) - ${file.size} bytes, ` +\n",
              "        `last modified: ${\n",
              "            file.lastModifiedDate ? file.lastModifiedDate.toLocaleDateString() :\n",
              "                                    'n/a'} - `));\n",
              "    const percent = span('0% done');\n",
              "    li.appendChild(percent);\n",
              "\n",
              "    outputElement.appendChild(li);\n",
              "\n",
              "    const fileDataPromise = new Promise((resolve) => {\n",
              "      const reader = new FileReader();\n",
              "      reader.onload = (e) => {\n",
              "        resolve(e.target.result);\n",
              "      };\n",
              "      reader.readAsArrayBuffer(file);\n",
              "    });\n",
              "    // Wait for the data to be ready.\n",
              "    let fileData = yield {\n",
              "      promise: fileDataPromise,\n",
              "      response: {\n",
              "        action: 'continue',\n",
              "      }\n",
              "    };\n",
              "\n",
              "    // Use a chunked sending to avoid message size limits. See b/62115660.\n",
              "    let position = 0;\n",
              "    do {\n",
              "      const length = Math.min(fileData.byteLength - position, MAX_PAYLOAD_SIZE);\n",
              "      const chunk = new Uint8Array(fileData, position, length);\n",
              "      position += length;\n",
              "\n",
              "      const base64 = btoa(String.fromCharCode.apply(null, chunk));\n",
              "      yield {\n",
              "        response: {\n",
              "          action: 'append',\n",
              "          file: file.name,\n",
              "          data: base64,\n",
              "        },\n",
              "      };\n",
              "\n",
              "      let percentDone = fileData.byteLength === 0 ?\n",
              "          100 :\n",
              "          Math.round((position / fileData.byteLength) * 100);\n",
              "      percent.textContent = `${percentDone}% done`;\n",
              "\n",
              "    } while (position < fileData.byteLength);\n",
              "  }\n",
              "\n",
              "  // All done.\n",
              "  yield {\n",
              "    response: {\n",
              "      action: 'complete',\n",
              "    }\n",
              "  };\n",
              "}\n",
              "\n",
              "scope.google = scope.google || {};\n",
              "scope.google.colab = scope.google.colab || {};\n",
              "scope.google.colab._files = {\n",
              "  _uploadFiles,\n",
              "  _uploadFilesContinue,\n",
              "};\n",
              "})(self);\n",
              "</script> "
            ]
          },
          "metadata": {}
        },
        {
          "output_type": "stream",
          "name": "stdout",
          "text": [
            "Saving OnlineRetailDateDataset.xlsx to OnlineRetailDateDataset (3).xlsx\n",
            "Saving ProductPriceTextDataset.csv to ProductPriceTextDataset (3).csv\n"
          ]
        }
      ],
      "source": [
        "from google.colab import files\n",
        "\n",
        "#Uploading raw data file\n",
        "uploaded = files.upload()"
      ]
    },
    {
      "cell_type": "code",
      "execution_count": 4,
      "metadata": {
        "colab": {
          "base_uri": "https://localhost:8080/"
        },
        "id": "0fNfktyPqBOK",
        "outputId": "528c604a-0477-4795-ce65-f345cfcf2acf"
      },
      "outputs": [
        {
          "output_type": "stream",
          "name": "stdout",
          "text": [
            "  InvoiceNo StockCode                          Description  Quantity  \\\n",
            "0    536365    85123A   WHITE HANGING HEART T-LIGHT HOLDER         6   \n",
            "1    536365     71053                  WHITE METAL LANTERN         6   \n",
            "2    536365    84406B       CREAM CUPID HEARTS COAT HANGER         8   \n",
            "3    536365    84029G  KNITTED UNION FLAG HOT WATER BOTTLE         6   \n",
            "4    536365    84029E       RED WOOLLY HOTTIE WHITE HEART.         6   \n",
            "\n",
            "          InvoiceDate  UnitPrice  CustomerID         Country  \n",
            "0 2010-12-01 08:26:00       2.55     17850.0  United Kingdom  \n",
            "1 2010-12-01 08:26:00       3.39     17850.0  United Kingdom  \n",
            "2 2010-12-01 08:26:00       2.75     17850.0  United Kingdom  \n",
            "3 2010-12-01 08:26:00       3.39     17850.0  United Kingdom  \n",
            "4 2010-12-01 08:26:00       3.39     17850.0  United Kingdom  \n",
            "\n",
            "\n",
            "   Product ID                                      Product Title  \\\n",
            "0           1                    apple iphone 8 plus 64gb silver   \n",
            "1           2                apple iphone 8 plus 64 gb spacegrau   \n",
            "2           3  apple mq8n2b/a iphone 8 plus 64gb 5.5 12mp sim...   \n",
            "3           4                apple iphone 8 plus 64gb space grey   \n",
            "4           5  apple iphone 8 plus gold 5.5 64gb 4g unlocked ...   \n",
            "\n",
            "    Merchant ID   Cluster ID             Cluster Label   Category ID  \\\n",
            "0             1            1  Apple iPhone 8 Plus 64GB          2612   \n",
            "1             2            1  Apple iPhone 8 Plus 64GB          2612   \n",
            "2             3            1  Apple iPhone 8 Plus 64GB          2612   \n",
            "3             4            1  Apple iPhone 8 Plus 64GB          2612   \n",
            "4             5            1  Apple iPhone 8 Plus 64GB          2612   \n",
            "\n",
            "   Category Label  \n",
            "0   Mobile Phones  \n",
            "1   Mobile Phones  \n",
            "2   Mobile Phones  \n",
            "3   Mobile Phones  \n",
            "4   Mobile Phones  \n"
          ]
        }
      ],
      "source": [
        "import pandas as pd\n",
        "import io\n",
        "\n",
        "df_date = pd.read_excel(io.BytesIO(uploaded['OnlineRetailDateDataset (3).xlsx']))\n",
        "df_text = pd.read_csv(io.BytesIO(uploaded['ProductPriceTextDataset (3).csv']))\n",
        "print(df_date.head())\n",
        "print(\"\\n\")\n",
        "print(df_text.head())"
      ]
    },
    {
      "cell_type": "code",
      "execution_count": 5,
      "metadata": {
        "colab": {
          "base_uri": "https://localhost:8080/"
        },
        "id": "-pAu6MhfviUP",
        "outputId": "cd5df084-4b4a-4c13-c3fd-afc5b8192b72"
      },
      "outputs": [
        {
          "output_type": "stream",
          "name": "stdout",
          "text": [
            "\n",
            "\n",
            "\n",
            "\n",
            "   Product ID  Merchant ID  Cluster ID  Category ID\n",
            "0           1            1           1         2612\n",
            "1           2            2           1         2612\n",
            "2           3            3           1         2612\n",
            "3           4            4           1         2612\n",
            "4           5            5           1         2612\n",
            "\n",
            "\n",
            "\n",
            "\n",
            "\n",
            "\n",
            "   Quantity         InvoiceDate  UnitPrice  CustomerID  Country\n",
            "0         6 2010-12-01 08:26:00       2.55     17850.0       36\n",
            "1         6 2010-12-01 08:26:00       3.39     17850.0       36\n",
            "2         8 2010-12-01 08:26:00       2.75     17850.0       36\n",
            "3         6 2010-12-01 08:26:00       3.39     17850.0       36\n",
            "4         6 2010-12-01 08:26:00       3.39     17850.0       36\n"
          ]
        }
      ],
      "source": [
        "df_date_normalized = df_date.drop(columns=['InvoiceNo','StockCode','Description'])\n",
        "df_date_normalized['Country'] = pd.Categorical(df_date_normalized['Country']).codes\n",
        "df_date_normalized['InvoiceDate'] = pd.to_datetime(df_date_normalized['InvoiceDate'], errors='coerce')\n",
        "\n",
        "df_text.columns = df_text.columns.str.strip()\n",
        "df_text_normalized = df_text.drop(['Product Title', 'Cluster Label', 'Category Label'], axis=1)\n",
        "\n",
        "\n",
        "#print(\"Missing values: \", df_text_normalized.isnull().sum())\n",
        "print(\"\\n\")\n",
        "#data_prod_price = df_text_normalized.drop_duplicates()\n",
        "print(\"\\n\")\n",
        "print(df_text_normalized.head())\n",
        "print(\"\\n\")\n",
        "#print(\"Missing values: \", df_date_normalized.isnull().sum())\n",
        "print(\"\\n\")\n",
        "#data_retail = df_date_normalized.drop_duplicates()\n",
        "print(\"\\n\")\n",
        "print(df_date_normalized.head())"
      ]
    },
    {
      "cell_type": "code",
      "source": [
        "import seaborn as sns\n",
        "import matplotlib.pyplot as plt\n",
        "\n",
        "df_prod_text = df_text_normalized.copy();\n",
        "df_retail_date = df_date_normalized.copy();\n",
        "print(df_prod_text.columns)\n",
        "\n",
        "#plt.figure()\n",
        "#sns.boxplot(data=data_prod_price, x='Product ID', y=' Cluster ID')\n",
        "#plt.title('Box plot of {Product ID}')\n",
        "#plt.show()\n",
        "sns.catplot(data=df_prod_text, x='Product ID', y='Category ID')\n",
        "plt.show()"
      ],
      "metadata": {
        "colab": {
          "base_uri": "https://localhost:8080/",
          "height": 524
        },
        "id": "qt9fakaLyIDx",
        "outputId": "3b645ab0-b850-4501-fa36-849e59e72117"
      },
      "execution_count": null,
      "outputs": [
        {
          "metadata": {
            "tags": null
          },
          "name": "stdout",
          "output_type": "stream",
          "text": [
            "Index(['Product ID', 'Merchant ID', 'Cluster ID', 'Category ID'], dtype='object')\n"
          ]
        },
        {
          "output_type": "display_data",
          "data": {
            "text/plain": [
              "<Figure size 511.111x500 with 1 Axes>"
            ],
            "image/png": "[encoded data removed]"
          },
          "metadata": {}
        }
      ]
    },
    {
      "cell_type": "code",
      "source": [
        "df_text_normal_x = df_text_normalized.drop(columns=['Category ID'], axis=1)\n",
        "df_text_normal_y = df_text_normalized['Category ID']"
      ],
      "metadata": {
        "id": "UNLvH2gluJVQ"
      },
      "execution_count": null,
      "outputs": []
    },
    {
      "cell_type": "code",
      "source": [
        "print(\"Row: \", df_text_normalized.shape[0])\n",
        "print(\" Colunm: \", df_text_normalized.shape[1])"
      ],
      "metadata": {
        "colab": {
          "base_uri": "https://localhost:8080/"
        },
        "id": "LRsLc20l1v4V",
        "outputId": "c345ea90-abe1-4555-b3ad-0d4ac6c6be16"
      },
      "execution_count": null,
      "outputs": [
        {
          "output_type": "stream",
          "name": "stdout",
          "text": [
            "Row:  35311\n",
            " Colunm:  4\n"
          ]
        }
      ]
    },
    {
      "cell_type": "code",
      "source": [
        "from sklearn.model_selection import train_test_split\n",
        "from sklearn.linear_model import LogisticRegression\n",
        "from sklearn.metrics import accuracy_score\n",
        "\n",
        "#Split data into train/test set\n",
        "X_train, X_test, Y_train, Y_test = train_test_split(df_text_normal_x, df_text_normal_y, test_size=0.3, random_state=2025) #stratify=y\n",
        "\n",
        "#Train and evaluate a logistic resgression model\n",
        "model = LogisticRegression(max_iter=df_text_normal_x.shape[0])\n",
        "model.fit(X_train, Y_train)\n",
        "Y_pred = model.predict(X_test)\n",
        "accuracy = accuracy_score(Y_test, Y_pred)\n",
        "\n",
        "print(f\"Model Accuracy: {accuracy:.2f}\")\n",
        "# Print the confusion matrix\n",
        "print(confusion_matrix(Y_test, Y_pred))\n",
        "print('\\n')\n",
        "# Print the classification report\n",
        "print(classification_report(Y_test, Y_pred))"
      ],
      "metadata": {
        "colab": {
          "base_uri": "https://localhost:8080/"
        },
        "id": "ZPWfz8PCsQhw",
        "outputId": "f7f5fb06-0600-49f9-ef5e-ad5e85df97e8"
      },
      "execution_count": null,
      "outputs": [
        {
          "output_type": "stream",
          "name": "stdout",
          "text": [
            "Model Accuracy: 0.96\n"
          ]
        },
        {
          "output_type": "stream",
          "name": "stderr",
          "text": [
            "/usr/local/lib/python3.11/dist-packages/sklearn/linear_model/_logistic.py:465: ConvergenceWarning: lbfgs failed to converge (status=1):\n",
            "STOP: TOTAL NO. of f AND g EVALUATIONS EXCEEDS LIMIT.\n",
            "\n",
            "Increase the number of iterations (max_iter) or scale the data as shown in:\n",
            "    https://scikit-learn.org/stable/modules/preprocessing.html\n",
            "Please also refer to the documentation for alternative solver options:\n",
            "    https://scikit-learn.org/stable/modules/linear_model.html#logistic-regression\n",
            "  n_iter_i = _check_optimize_result(\n"
          ]
        }
      ]
    },
    {
      "cell_type": "code",
      "source": [
        "from sklearn.metrics import classification_report\n",
        "from sklearn.metrics import confusion_matrix\n",
        "\n",
        "print(f\"Model Accuracy: {accuracy:.2f}\")\n",
        "# Print the confusion matrix\n",
        "print(confusion_matrix(Y_test, Y_pred))\n",
        "print('\\n')\n",
        "# Print the classification report\n",
        "print(classification_report(Y_test, Y_pred))"
      ],
      "metadata": {
        "colab": {
          "base_uri": "https://localhost:8080/"
        },
        "id": "oKSgQYxZ37Ag",
        "outputId": "acd88eb6-9499-4168-9381-6b3529a0c860"
      },
      "execution_count": null,
      "outputs": [
        {
          "output_type": "stream",
          "name": "stdout",
          "text": [
            "Model Accuracy: 0.96\n",
            "[[1109  104    0    0    0    0    0    0    0    0]\n",
            " [   0  778  271    0    0    0    0    0    0    0]\n",
            " [   0   34 1122    0    0    0    0    0    0    0]\n",
            " [   0    0    0  800    1    0    0    0    0    0]\n",
            " [   0    0    0    0  716    1    0    0    0    0]\n",
            " [   0    0    0    0    1 1062    0    0    0    0]\n",
            " [   0    0    0    0    0    0 1201    0    0    0]\n",
            " [   0    0    0    0    0    0   10  618    1    0]\n",
            " [   0    0    0    0    0    0    0    3 1649    0]\n",
            " [   0    0    0    0    0    0    0    0    4 1109]]\n",
            "\n",
            "\n",
            "              precision    recall  f1-score   support\n",
            "\n",
            "        2612       1.00      0.91      0.96      1213\n",
            "        2614       0.85      0.74      0.79      1049\n",
            "        2615       0.81      0.97      0.88      1156\n",
            "        2617       1.00      1.00      1.00       801\n",
            "        2618       1.00      1.00      1.00       717\n",
            "        2619       1.00      1.00      1.00      1063\n",
            "        2620       0.99      1.00      1.00      1201\n",
            "        2621       1.00      0.98      0.99       629\n",
            "        2622       1.00      1.00      1.00      1652\n",
            "        2623       1.00      1.00      1.00      1113\n",
            "\n",
            "    accuracy                           0.96     10594\n",
            "   macro avg       0.96      0.96      0.96     10594\n",
            "weighted avg       0.96      0.96      0.96     10594\n",
            "\n"
          ]
        }
      ]
    },
    {
      "cell_type": "code",
      "source": [
        "import numpy as np\n",
        "\n",
        "#df_date_normalized = df_date_normalized.drop(columns=['Quantity','CustomerID','Country'])\n",
        "print(\"Row: \", df_date_normalized.shape[0])\n",
        "print(\" Colunm: \", df_date_normalized.shape[1])\n",
        "drop_indices = np.random.choice(df_date_normalized.index, 400000, replace=False)\n",
        "df_subset = df_date_normalized.drop(drop_indices)\n",
        "print(\" After Row: \", df_subset.shape[0])"
      ],
      "metadata": {
        "colab": {
          "base_uri": "https://localhost:8080/"
        },
        "id": "hIuAA8x3nAxt",
        "outputId": "532d9730-6820-4cdd-f463-6629bb3ff6bd"
      },
      "execution_count": 26,
      "outputs": [
        {
          "output_type": "stream",
          "name": "stdout",
          "text": [
            "Row:  541909\n",
            " Colunm:  2\n",
            " After Row:  141909\n"
          ]
        }
      ]
    },
    {
      "cell_type": "code",
      "source": [
        "import pandas as pd\n",
        "from statsmodels.tsa.arima.model import ARIMA\n",
        "from statsmodels.tsa.stattools import adfuller\n",
        "\n",
        "# Check for stationarity (important for ARIMA)\n",
        "def check_stationarity(timeseries):\n",
        "    result = adfuller(timeseries)\n",
        "    print('ADF Statistic: %f' % result[0])\n",
        "    print('p-value: %f' % result[1])\n",
        "    print('Critical Values:')\n",
        "    for key, value in result[4].items():\n",
        "        print('\\t%s: %.3f' % (key, value))\n",
        "\n",
        "print(df_subset.columns)\n",
        "df_subset.set_index('InvoiceDate', inplace=True)\n",
        "# If the p-value > 0.05 then the data is not stationary.\n",
        "# Apply differencing if required.\n",
        "check_stationarity(df_subset['UnitPrice'])\n",
        "\n",
        "try:\n",
        "  model = ARIMA(df_subset['UnitPrice'], order=(5,1,0)) # Example order, tune this!\n",
        "  model_fit = model.fit()\n",
        "\n",
        "  # Make predictions (example: for the next 10 steps)\n",
        "  predictions = model_fit.predict(start=1, end=len(df_subset))\n",
        "  print(predictions)\n",
        "\n",
        "except Exception as e:\n",
        "  print(\"Error during ARIMA model fitting:\", e)"
      ],
      "metadata": {
        "id": "zKBpfm5v58ZF",
        "colab": {
          "base_uri": "https://localhost:8080/"
        },
        "outputId": "db102ad6-9c8a-4b6f-f6fd-159219ee2ffe"
      },
      "execution_count": 27,
      "outputs": [
        {
          "output_type": "stream",
          "name": "stdout",
          "text": [
            "Index(['InvoiceDate', 'UnitPrice'], dtype='object')\n",
            "ADF Statistic: -116.458107\n",
            "p-value: 0.000000\n",
            "Critical Values:\n",
            "\t1%: -3.430\n",
            "\t5%: -2.862\n",
            "\t10%: -2.567\n"
          ]
        },
        {
          "output_type": "stream",
          "name": "stderr",
          "text": [
            "/usr/local/lib/python3.11/dist-packages/statsmodels/tsa/base/tsa_model.py:473: ValueWarning: A date index has been provided, but it has no associated frequency information and so will be ignored when e.g. forecasting.\n",
            "  self._init_dates(dates, freq)\n",
            "/usr/local/lib/python3.11/dist-packages/statsmodels/tsa/base/tsa_model.py:473: ValueWarning: A date index has been provided, but it has no associated frequency information and so will be ignored when e.g. forecasting.\n",
            "  self._init_dates(dates, freq)\n",
            "/usr/local/lib/python3.11/dist-packages/statsmodels/tsa/base/tsa_model.py:473: ValueWarning: A date index has been provided, but it has no associated frequency information and so will be ignored when e.g. forecasting.\n",
            "  self._init_dates(dates, freq)\n"
          ]
        },
        {
          "output_type": "stream",
          "name": "stdout",
          "text": [
            "1         2.726372\n",
            "2         3.409807\n",
            "3         3.100109\n",
            "4         2.787608\n",
            "5         2.782070\n",
            "            ...   \n",
            "141905    1.629933\n",
            "141906    2.075646\n",
            "141907    2.510499\n",
            "141908    3.036491\n",
            "141909    3.491241\n",
            "Name: predicted_mean, Length: 141909, dtype: float64\n"
          ]
        },
        {
          "output_type": "stream",
          "name": "stderr",
          "text": [
            "/usr/local/lib/python3.11/dist-packages/statsmodels/tsa/base/tsa_model.py:837: ValueWarning: No supported index is available. Prediction results will be given with an integer index beginning at `start`.\n",
            "  return get_prediction_index(\n",
            "/usr/local/lib/python3.11/dist-packages/statsmodels/tsa/base/tsa_model.py:837: FutureWarning: No supported index is available. In the next version, calling this method in a model without a supported index will result in an exception.\n",
            "  return get_prediction_index(\n"
          ]
        }
      ]
    },
    {
      "cell_type": "code",
      "source": [
        "from sklearn.metrics import mean_squared_error\n",
        "from statsmodels.tools.eval_measures import rmse\n",
        "\n",
        "# Evaluate the model (e.g., using RMSE)\n",
        "print(f\"RMSE: {rmse(df_subset['UnitPrice'], predictions)}\")\n",
        "\n",
        "# Calculate mean squared error\n",
        "print(f\"MSE: {mean_squared_error(df_subset['UnitPrice'], predictions)}\")"
      ],
      "metadata": {
        "colab": {
          "base_uri": "https://localhost:8080/"
        },
        "id": "hvcbkfkksAvu",
        "outputId": "2a4b7031-6a2b-494f-d6fc-4a2c19ccd8af"
      },
      "execution_count": 28,
      "outputs": [
        {
          "output_type": "stream",
          "name": "stdout",
          "text": [
            "RMSE: 86.94131074635256\n",
            "MSE: 7558.791514293837\n"
          ]
        }
      ]
    }
  ],
  "metadata": {
    "colab": {
      "provenance": [],
      "authorship_tag": "ABX9TyN8sTRNg43rufu65ZXSx1FQ",
      "include_colab_link": true
    },
    "kernelspec": {
      "display_name": "Python 3",
      "name": "python3"
    },
    "language_info": {
      "name": "python"
    }
  },
  "nbformat": 4,
  "nbformat_minor": 0
}